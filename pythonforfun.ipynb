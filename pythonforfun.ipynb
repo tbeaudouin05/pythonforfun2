{
 "cells": [
  {
   "cell_type": "markdown",
   "metadata": {},
   "source": [
    "Using the free API provided by Singaporean data.gov, we can get a heatmap of the taxis currently available in Singapore"
   ]
  },
  {
   "cell_type": "code",
   "execution_count": 48,
   "metadata": {},
   "outputs": [
    {
     "data": {
      "application/vnd.jupyter.widget-view+json": {
       "model_id": "95b22de2418a41e1841903712fee53d7",
       "version_major": 2,
       "version_minor": 0
      },
      "text/plain": [
       "Figure(layout=FigureLayout(height='420px'))"
      ]
     },
     "metadata": {},
     "output_type": "display_data"
    }
   ],
   "source": [
    "import requests\n",
    "response = requests.get(\"https://api.data.gov.sg/v1/transport/taxi-availability\")\n",
    "\n",
    "import pandas as pd\n",
    "data = response.json()['features'][0]['geometry']['coordinates']\n",
    "df = pd.DataFrame.from_records(data, columns=['longitude', 'latitude'])\n",
    "df = df.reindex(columns=['latitude','longitude'])\n",
    "\n",
    "import gmaps\n",
    "fig = gmaps.figure(map_type='HYBRID')\n",
    "heatmap_layer = gmaps.heatmap_layer(df)\n",
    "fig.add_layer(heatmap_layer)\n",
    "\n",
    "heatmap_layer.max_intensity = None\n",
    "heatmap_layer.point_radius = 10\n",
    "heatmap_layer.dissipating = True\n",
    "heatmap_layer.opacity = 1.0\n",
    "\n",
    "fig\n"
   ]
  },
  {
   "cell_type": "markdown",
   "metadata": {},
   "source": [
    "The total number of taxis currently available in Singapore is:"
   ]
  },
  {
   "cell_type": "code",
   "execution_count": 52,
   "metadata": {},
   "outputs": [
    {
     "data": {
      "text/plain": [
       "2500"
      ]
     },
     "execution_count": 52,
     "metadata": {},
     "output_type": "execute_result"
    }
   ],
   "source": [
    "data = response.json()['features'][0]['properties']['taxi_count']\n",
    "data"
   ]
  },
  {
   "cell_type": "code",
   "execution_count": null,
   "metadata": {},
   "outputs": [],
   "source": []
  }
 ],
 "metadata": {
  "kernelspec": {
   "display_name": "Python 3",
   "language": "python",
   "name": "python3"
  },
  "language_info": {
   "codemirror_mode": {
    "name": "ipython",
    "version": 3
   },
   "file_extension": ".py",
   "mimetype": "text/x-python",
   "name": "python",
   "nbconvert_exporter": "python",
   "pygments_lexer": "ipython3",
   "version": "3.7.4"
  }
 },
 "nbformat": 4,
 "nbformat_minor": 2
}
